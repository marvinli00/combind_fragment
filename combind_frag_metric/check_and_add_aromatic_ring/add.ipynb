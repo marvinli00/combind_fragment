{
 "cells": [
  {
   "cell_type": "code",
   "execution_count": 14,
   "metadata": {},
   "outputs": [],
   "source": [
    "from schrodinger.structure import MaestroReader, MaestroWriter\n",
    "from schrodinger.structutils import analyze\n",
    "from schrodinger import structure\n",
    "from schrodinger.structure import StructureReader\n",
    "from schrodinger.structutils import assignbondorders\n"
   ]
  },
  {
   "cell_type": "code",
   "execution_count": null,
   "metadata": {},
   "outputs": [],
   "source": []
  },
  {
   "cell_type": "code",
   "execution_count": 18,
   "metadata": {},
   "outputs": [],
   "source": [
    "import glob\n",
    "ligands = \"/home/pc/Documents/combind_fragment/combind_fragment/fragment_dataset_add_bond_orders/*/structures/raw/*_lig.mae\"\n",
    "ligands = glob.glob(ligands)\n",
    "\n",
    "for ligand in ligands:\n",
    "    with StructureReader(ligand) as reader:\n",
    "        st = next(reader)\n",
    "    assignbondorders.assign_st(st)\n",
    "    \n",
    "    with MaestroWriter(ligand) as writer:\n",
    "        writer.append(st)\n"
   ]
  }
 ],
 "metadata": {
  "kernelspec": {
   "display_name": "schrodinger.ve",
   "language": "python",
   "name": "python3"
  },
  "language_info": {
   "codemirror_mode": {
    "name": "ipython",
    "version": 3
   },
   "file_extension": ".py",
   "mimetype": "text/x-python",
   "name": "python",
   "nbconvert_exporter": "python",
   "pygments_lexer": "ipython3",
   "version": "3.8.10"
  }
 },
 "nbformat": 4,
 "nbformat_minor": 2
}
