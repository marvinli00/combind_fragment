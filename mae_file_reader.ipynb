{
 "cells": [
  {
   "cell_type": "code",
   "execution_count": 7,
   "metadata": {},
   "outputs": [],
   "source": [
    "import numpy\n",
    "from combind_utils.bounding_box_utils import read_bounding_box, is_within_bounding_box\n",
    "from combind_utils.atoms_utils import get_atoms_coordinates, get_ligand_protein_path, read_poses_and_calculate_rmsd\n",
    "from schrodinger.structutils import rmsd"
   ]
  },
  {
   "cell_type": "code",
   "execution_count": 8,
   "metadata": {},
   "outputs": [],
   "source": [
    "import glob\n",
    "protein_path = glob.glob(\"/home/pc/Documents/combind_fragment/combind_fragment/fragment_dataset_redocking/*\")\n",
    "import os\n",
    "\n",
    "from collections import defaultdict\n",
    "ligands_dict = defaultdict(list)\n",
    "for each_protein_path in protein_path:\n",
    "    reference_protein_path = os.path.join(each_protein_path, \"structures\", \"grids\")\n",
    "    #list folders under the path\n",
    "    reference_protein_path = os.listdir(reference_protein_path)\n",
    "    if len(reference_protein_path) > 1:\n",
    "        assert False, \"More than one reference protein path found\"\n",
    "    \n",
    "    reference_protein_name = reference_protein_path[0].split(\"/\")[-1]\n",
    "    ligands_path = glob.glob(f\"{each_protein_path}/structures/ligands/*.mae\")\n",
    "    ligands_dict[(reference_protein_name,os.path.join(each_protein_path))] = ligands_path\n",
    "\n",
    "\n",
    "\n",
    "\n"
   ]
  },
  {
   "cell_type": "code",
   "execution_count": 9,
   "metadata": {},
   "outputs": [
    {
     "name": "stderr",
     "output_type": "stream",
     "text": [
      "100%|██████████| 44/44 [00:00<00:00, 105.60it/s]\n"
     ]
    }
   ],
   "source": [
    "import schrodinger\n",
    "#try to read the mae file\n",
    "from schrodinger.structure import StructureReader\n",
    "from tqdm import tqdm\n",
    "from schrodinger.structutils import rmsd\n",
    "\n",
    "protein_to_ligands = {}\n",
    "\n",
    "for reference_ligand_name, ligand_base_path in tqdm(ligands_dict):\n",
    "    \n",
    "    # Path to bounding box file: <ligand_base_path>/structures/grids/<reference_ligand_name>/<reference_ligand_name>.in\n",
    "    boxing_box_path = os.path.join(ligand_base_path, \"structures\", \"grids\", reference_ligand_name,f\"{reference_ligand_name}.in\")\n",
    "    bounding_box = read_bounding_box(boxing_box_path)\n",
    "    \n",
    "    # Path to reference protein structure: <ligand_base_path>/structures/proteins/<reference_ligand_name>_prot.mae\n",
    "    reference_protein_path = os.path.join(ligand_base_path, \"structures\", \"proteins\", f\"{reference_ligand_name}_prot.mae\")\n",
    "    pocket_atoms = []\n",
    "    \n",
    "    # Read protein structure from MAE file and extract atoms within the binding pocket\n",
    "    # This code reads a protein structure from a MAE file and identifies atoms that lie within \n",
    "    # a predefined bounding box region representing the binding pocket. For each atom in the protein,\n",
    "    # it checks if the atom's coordinates fall within the box boundaries. If an atom is within the \n",
    "    # bounding box, it is considered part of the binding pocket and added to the pocket_atoms list.\n",
    "    with StructureReader(reference_protein_path) as reader:\n",
    "        for model in reader:\n",
    "            # Iterate through atoms in the protein model\n",
    "            for atom in model.atom:\n",
    "                # Get x,y,z coordinates of atom\n",
    "                x, y, z = get_atoms_coordinates(atom)\n",
    "                # Check if atom is within the defined bounding box region\n",
    "                if is_within_bounding_box([x, y, z], bounding_box, box_type = \"outer_box\"):\n",
    "                    pocket_atoms.append(atom)\n",
    "        \n",
    "                \n",
    "    \n"
   ]
  },
  {
   "cell_type": "code",
   "execution_count": 10,
   "metadata": {},
   "outputs": [
    {
     "name": "stderr",
     "output_type": "stream",
     "text": [
      "100%|██████████| 5/5 [00:00<00:00, 10.50it/s]\n"
     ]
    }
   ],
   "source": [
    "\n",
    "\n",
    "# Path to the predicted poses from Glide docking\n",
    "poses_pred_path = \"/home/pc/Documents/combind_fragment/combind_fragment/fragment_dataset_redocking/A5H660/docking/*/*_pv.maegz\"\n",
    "#\n",
    "#poses_pred_path = \"/home/pc/Documents/combind_fragment/combind_fragment_test/A5H660/docking_re_smiles/*/*_pv.maegz\"\n",
    "poses_pred_path = glob.glob(poses_pred_path)\n",
    "\n",
    "rmsd_values = {}\n",
    "poses_pred_structures_glide = {}\n",
    "corrected_poses = 0\n",
    "\n",
    "for pose_pred_path in tqdm(poses_pred_path):\n",
    "    reference_ligand_name = pose_pred_path.split(\"/\")[-1].split(\"_pv\")[0].split(\"-to-\")[1].lower()\n",
    "    ligand_name = pose_pred_path.split(\"/\")[-1].split(\"_pv\")[0].split(\"-to-\")[0].lower()\n",
    "    \n",
    "    pose_true_path = os.path.join(\"/\",*pose_pred_path.split(\"/\")[:-3], \"structures\", \"ligands\", f\"{ligand_name}.mae\")\n",
    "    #find rmsd between pose_pred and pose_true\n",
    "    poses_pred_structure_glide, rmsd_value = read_poses_and_calculate_rmsd(pose_pred_path, pose_true_path, reference_ligand_name)\n",
    "    rmsd_values[ligand_name] = rmsd_value\n",
    "    poses_pred_structures_glide[ligand_name] = poses_pred_structure_glide\n",
    "    corrected_poses += (rmsd_value < 2).sum()\n",
    "    "
   ]
  },
  {
   "cell_type": "code",
   "execution_count": 12,
   "metadata": {},
   "outputs": [],
   "source": [
    "pose_true_path = \"/home/pc/Documents/combind_fragment/combind_fragment/fragment_dataset/A5H660/structures/ligands/6htg_lig.mae\"\n",
    "smallest_index = rmsd_values[\"6htg_lig\"].argmin()\n",
    "strcuture_fragment = list(poses_pred_structures_glide[\"6htg_lig\"].keys())[smallest_index]\n",
    "#save the structure to pdb file\n",
    "strcuture_fragment.write(\"structure_fragment.pdb\")\n",
    "\n",
    "poses_true = next(StructureReader(pose_true_path))\n",
    "#save to pdb file\n",
    "poses_true.write(\"pose_true.pdb\")\n",
    "#convert to smiles\n",
    "from rdkit import Chem\n",
    "from rdkit.Chem import AllChem\n",
    "mol = Chem.MolFromPDBFile(\"pose_true.pdb\")\n",
    "mol = Chem.RemoveAllHs(mol)  # Remove hydrogens for cleaner SMILES\n",
    "AllChem.SanitizeMol(mol)     # Sanitize the molecule\n",
    "\n",
    "# Convert to SMILES\n",
    "smiles = Chem.MolToSmiles(mol)\n",
    "\n",
    "\n",
    "#smiles = Chem.MolToSmiles(poses_true)\n"
   ]
  },
  {
   "cell_type": "code",
   "execution_count": 68,
   "metadata": {},
   "outputs": [
    {
     "data": {
      "text/plain": [
       "hydrogen\n",
       "H2     2\n",
       "H1     1\n",
       "H5     1\n",
       "HE2    1\n",
       "HH     1\n",
       "Name: count, dtype: int64"
      ]
     },
     "execution_count": 68,
     "metadata": {},
     "output_type": "execute_result"
    }
   ],
   "source": [
    "import pandas as pd\n",
    "df = pd.read_csv(\"/home/pc/Documents/combind_fragment/combind_fragment/fragment_dataset/A5H660/docking/6HTG_lig-to-4bz6/6HTG_lig-to-4bz6_ifp_rd1_raw.csv\")\n",
    "\n",
    "df_best_predict_pose = df[df[\"pose\"] == smallest_index]\n",
    "#find number of hydrogen bond\n",
    "df_best_predict_pose[\"hydrogen\"].value_counts()"
   ]
  },
  {
   "cell_type": "code",
   "execution_count": 64,
   "metadata": {},
   "outputs": [
    {
     "data": {
      "text/html": [
       "<div>\n",
       "<style scoped>\n",
       "    .dataframe tbody tr th:only-of-type {\n",
       "        vertical-align: middle;\n",
       "    }\n",
       "\n",
       "    .dataframe tbody tr th {\n",
       "        vertical-align: top;\n",
       "    }\n",
       "\n",
       "    .dataframe thead th {\n",
       "        text-align: right;\n",
       "    }\n",
       "</style>\n",
       "<table border=\"1\" class=\"dataframe\">\n",
       "  <thead>\n",
       "    <tr style=\"text-align: right;\">\n",
       "      <th></th>\n",
       "      <th>pose</th>\n",
       "      <th>label</th>\n",
       "      <th>protein_res</th>\n",
       "      <th>protein_atom</th>\n",
       "      <th>ligand_atom</th>\n",
       "      <th>dist</th>\n",
       "      <th>angle</th>\n",
       "      <th>hydrogen</th>\n",
       "      <th>vdw</th>\n",
       "    </tr>\n",
       "  </thead>\n",
       "  <tbody>\n",
       "    <tr>\n",
       "      <th>0</th>\n",
       "      <td>0</td>\n",
       "      <td>contact</td>\n",
       "      <td>A:100:ASP:</td>\n",
       "      <td>CA</td>\n",
       "      <td>Cl1</td>\n",
       "      <td>5.784160</td>\n",
       "      <td>NaN</td>\n",
       "      <td>NaN</td>\n",
       "      <td>3.45</td>\n",
       "    </tr>\n",
       "    <tr>\n",
       "      <th>1</th>\n",
       "      <td>0</td>\n",
       "      <td>contact</td>\n",
       "      <td>A:100:ASP:</td>\n",
       "      <td>CB</td>\n",
       "      <td>C4</td>\n",
       "      <td>5.377163</td>\n",
       "      <td>NaN</td>\n",
       "      <td>NaN</td>\n",
       "      <td>3.40</td>\n",
       "    </tr>\n",
       "    <tr>\n",
       "      <th>2</th>\n",
       "      <td>0</td>\n",
       "      <td>contact</td>\n",
       "      <td>A:100:ASP:</td>\n",
       "      <td>CB</td>\n",
       "      <td>C5</td>\n",
       "      <td>5.361453</td>\n",
       "      <td>NaN</td>\n",
       "      <td>NaN</td>\n",
       "      <td>3.40</td>\n",
       "    </tr>\n",
       "    <tr>\n",
       "      <th>3</th>\n",
       "      <td>0</td>\n",
       "      <td>contact</td>\n",
       "      <td>A:100:ASP:</td>\n",
       "      <td>CB</td>\n",
       "      <td>Cl1</td>\n",
       "      <td>4.469744</td>\n",
       "      <td>NaN</td>\n",
       "      <td>NaN</td>\n",
       "      <td>3.45</td>\n",
       "    </tr>\n",
       "    <tr>\n",
       "      <th>4</th>\n",
       "      <td>0</td>\n",
       "      <td>contact</td>\n",
       "      <td>A:100:ASP:</td>\n",
       "      <td>CG</td>\n",
       "      <td>C4</td>\n",
       "      <td>5.370163</td>\n",
       "      <td>NaN</td>\n",
       "      <td>NaN</td>\n",
       "      <td>3.40</td>\n",
       "    </tr>\n",
       "  </tbody>\n",
       "</table>\n",
       "</div>"
      ],
      "text/plain": [
       "   pose    label protein_res protein_atom ligand_atom      dist  angle  \\\n",
       "0     0  contact  A:100:ASP:           CA         Cl1  5.784160    NaN   \n",
       "1     0  contact  A:100:ASP:           CB          C4  5.377163    NaN   \n",
       "2     0  contact  A:100:ASP:           CB          C5  5.361453    NaN   \n",
       "3     0  contact  A:100:ASP:           CB         Cl1  4.469744    NaN   \n",
       "4     0  contact  A:100:ASP:           CG          C4  5.370163    NaN   \n",
       "\n",
       "  hydrogen   vdw  \n",
       "0      NaN  3.45  \n",
       "1      NaN  3.40  \n",
       "2      NaN  3.40  \n",
       "3      NaN  3.45  \n",
       "4      NaN  3.40  "
      ]
     },
     "execution_count": 64,
     "metadata": {},
     "output_type": "execute_result"
    }
   ],
   "source": [
    "df.head()"
   ]
  },
  {
   "cell_type": "code",
   "execution_count": 56,
   "metadata": {},
   "outputs": [
    {
     "data": {
      "text/plain": [
       "dict_keys(['4bz6_lig', '6htg_lig', '6hsf_lig', '6hsz_lig', '6ht8_lig'])"
      ]
     },
     "execution_count": 56,
     "metadata": {},
     "output_type": "execute_result"
    }
   ],
   "source": [
    "rmsd_values.keys()"
   ]
  },
  {
   "cell_type": "code",
   "execution_count": 11,
   "metadata": {},
   "outputs": [],
   "source": [
    "#plot rmsd values\n",
    "from matplotlib import pyplot as plt\n",
    "plt.hist(rmsd_values[\"6htg_lig\"], bins=100)\n",
    "plt.show()\n"
   ]
  },
  {
   "cell_type": "code",
   "execution_count": 67,
   "metadata": {},
   "outputs": [],
   "source": [
    "model_atom_list = list(model.atom)\n",
    "pose_true_atom_list = list(poses_true.atom)\n",
    "#save model and pose_true to pdb file\n",
    "model.write(\"model.pdb\")\n",
    "poses_true.write(\"pose_true.pdb\")"
   ]
  }
 ],
 "metadata": {
  "kernelspec": {
   "display_name": "schrodinger.ve",
   "language": "python",
   "name": "python3"
  },
  "language_info": {
   "codemirror_mode": {
    "name": "ipython",
    "version": 3
   },
   "file_extension": ".py",
   "mimetype": "text/x-python",
   "name": "python",
   "nbconvert_exporter": "python",
   "pygments_lexer": "ipython3",
   "version": "3.8.10"
  }
 },
 "nbformat": 4,
 "nbformat_minor": 2
}
