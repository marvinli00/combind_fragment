{
 "cells": [
  {
   "cell_type": "code",
   "execution_count": 10,
   "metadata": {},
   "outputs": [],
   "source": [
    "import numpy\n",
    "from combind_utils.bounding_box_utils import read_bounding_box, is_within_bounding_box\n",
    "from combind_utils.atoms_utils import get_atoms_coordinates\n"
   ]
  },
  {
   "cell_type": "code",
   "execution_count": 13,
   "metadata": {},
   "outputs": [
    {
     "data": {
      "text/plain": [
       "{'center': [57.414713659574474, 9.895953936170212, 41.500116510638286],\n",
       " 'inner_box': [15.0, 15.0, 15.0],\n",
       " 'outer_box': [30.0, 30.0, 30.0]}"
      ]
     },
     "execution_count": 13,
     "metadata": {},
     "output_type": "execute_result"
    }
   ],
   "source": [
    "bounding_box"
   ]
  },
  {
   "cell_type": "code",
   "execution_count": 19,
   "metadata": {},
   "outputs": [],
   "source": [
    "import schrodinger\n",
    "#try to read the mae file\n",
    "from schrodinger.structure import StructureReader\n",
    "\n",
    "bounding_box = read_bounding_box(\"4bz6.in\")\n",
    "pocket_atoms = []\n",
    "#read the mae file\n",
    "with StructureReader(\"/home/pc/Documents/combind_fragment/combind_fragment/4bz6_prot.mae\") as reader:\n",
    "    for model in reader:\n",
    "        #find the property of the model\n",
    "        #iterate over the atoms\n",
    "        for atom in model.atom:\n",
    "            #print the atom\n",
    "            x, y, z = get_atoms_coordinates(atom)\n",
    "            if is_within_bounding_box([x, y, z], bounding_box, box_type = \"outer_box\"):\n",
    "                pocket_atoms.append(atom)\n"
   ]
  },
  {
   "cell_type": "code",
   "execution_count": null,
   "metadata": {},
   "outputs": [],
   "source": []
  },
  {
   "cell_type": "code",
   "execution_count": null,
   "metadata": {},
   "outputs": [],
   "source": []
  }
 ],
 "metadata": {
  "kernelspec": {
   "display_name": "schrodinger.ve",
   "language": "python",
   "name": "python3"
  },
  "language_info": {
   "codemirror_mode": {
    "name": "ipython",
    "version": 3
   },
   "file_extension": ".py",
   "mimetype": "text/x-python",
   "name": "python",
   "nbconvert_exporter": "python",
   "pygments_lexer": "ipython3",
   "version": "3.8.10"
  }
 },
 "nbformat": 4,
 "nbformat_minor": 2
}
