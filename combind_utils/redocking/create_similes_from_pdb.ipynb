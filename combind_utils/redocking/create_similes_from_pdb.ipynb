{
 "cells": [
  {
   "cell_type": "code",
   "execution_count": 9,
   "metadata": {},
   "outputs": [],
   "source": [
    "import glob\n",
    "import os\n",
    "if \"SLURM_JOB_ID\" in os.environ:\n",
    "    dir_prefix = \"/scratch/groups/rondror/marvinli/combind_fragment\"\n",
    "else:\n",
    "    dir_prefix = \"/home/pc/Documents/combind_fragment/combind_fragment\"\n",
    "\n",
    "dataset_name = \"fragment_dataset\"\n",
    "source_dir = f\"{dir_prefix}/{dataset_name}/*/structures/ligands\"\n",
    "#dest_dir = f\"{dir_prefix}/{dataset_name}_redocking\"\n",
    "\n",
    "source_dir_list = glob.glob(source_dir)\n",
    "#breakpoint()\n",
    "import numpy as np\n",
    "import schrodinger\n",
    "#try to read the mae file\n",
    "from schrodinger.structure import StructureReader\n",
    "from tqdm import tqdm\n",
    "from schrodinger.structutils import rmsd\n",
    "from rdkit import Chem\n",
    "from rdkit import Chem\n",
    "from rdkit.Chem import AllChem\n",
    "import pandas as pd"
   ]
  },
  {
   "cell_type": "code",
   "execution_count": 6,
   "metadata": {},
   "outputs": [],
   "source": [
    "import re\n",
    "\n",
    "def flatten_smiles(smiles_string):\n",
    "    \"\"\"\n",
    "    Flatten a SMILES expression by removing:\n",
    "    - Isotope specifications (numbers before atoms)\n",
    "    - Stereochemistry indicators (@, @@, /, \\)\n",
    "    - Atom charges (+, -)\n",
    "    - Atom classes (:[0-9]+)\n",
    "    - Explicit hydrogen counts ([nH], [CH3], etc.)\n",
    "    - Simplifying bracketed atoms to their basic form\n",
    "    \n",
    "    Args:\n",
    "        smiles_string (str): The SMILES string to flatten\n",
    "        \n",
    "    Returns:\n",
    "        str: The flattened SMILES string\n",
    "    \"\"\"\n",
    "    # Remove isotope specifications (numbers before atoms)\n",
    "    flattened = re.sub(r'(?<=\\[)[0-9]+', '', smiles_string)\n",
    "    \n",
    "    # Remove stereochemistry indicators\n",
    "    flattened = re.sub(r'@{1,2}', '', flattened)  # Remove @ and @@\n",
    "    flattened = re.sub(r'[/\\\\]', '', flattened)   # Remove / and \\\n",
    "    \n",
    "    # Remove atom charges and their associated numbers\n",
    "    flattened = re.sub(r'[-+][0-9]*', '', flattened)\n",
    "    \n",
    "    # Remove atom classes\n",
    "    flattened = re.sub(r':[0-9]+', '', flattened)\n",
    "    \n",
    "    # Handle explicit hydrogens in brackets\n",
    "    flattened = re.sub(r'\\[([A-Za-z])H[0-9]*\\]', r'\\1', flattened)\n",
    "    \n",
    "    # Handle bracketed atoms more generally\n",
    "    # Extract single atoms from brackets when they don't have special notations\n",
    "    pattern = r'\\[([A-Za-z])\\]'\n",
    "    while re.search(pattern, flattened):\n",
    "        flattened = re.sub(pattern, r'\\1', flattened)\n",
    "    \n",
    "    # Clean up the H notation in brackets when attached to other atoms\n",
    "    flattened = re.sub(r'([A-Za-z])\\[H\\]', r'\\1', flattened)\n",
    "    \n",
    "    # Clean up any empty brackets that might remain\n",
    "    flattened = re.sub(r'\\[\\]', '', flattened)\n",
    "    \n",
    "    return flattened"
   ]
  },
  {
   "cell_type": "code",
   "execution_count": 11,
   "metadata": {},
   "outputs": [
    {
     "name": "stderr",
     "output_type": "stream",
     "text": [
      "WARNING mmpdb_write_ct: Atom 34 of residue L:0 (Z79 ) has same name (H2_1) as a prior atom.\n",
      "WARNING mmpdb_write_ct: Atom 35 of residue L:0 (Z79 ) has same name (H2_2) as a prior atom.\n"
     ]
    },
    {
     "name": "stderr",
     "output_type": "stream",
     "text": [
      "WARNING mmpdb_write_ct: Atom 17 of residue L:301 (N2Y ) has same name (H2_1) as a prior atom.\n",
      "WARNING mmpdb_write_ct: Atom 18 of residue L:301 (N2Y ) has same name (H2_2) as a prior atom.\n",
      "WARNING mmpdb_write_ct: Atom 19 of residue L:501 (RJ5 ) has same name (H1_1) as a prior atom.\n",
      "WARNING mmpdb_write_ct: Atom 20 of residue L:501 (RJ5 ) has same name (H1_2) as a prior atom.\n",
      "WARNING mmpdb_write_ct: Atom 20 of residue L:501 (RHZ ) has same name (H1_1) as a prior atom.\n",
      "WARNING mmpdb_write_ct: Atom 21 of residue L:501 (RHZ ) has same name (H1_2) as a prior atom.\n",
      "WARNING mmpdb_write_ct: Atom 26 of residue L:501 (RKW ) has same name (H1_1) as a prior atom.\n",
      "WARNING mmpdb_write_ct: Atom 27 of residue L:501 (RKW ) has same name (H1_2) as a prior atom.\n",
      "WARNING mmpdb_write_ct: Atom 22 of residue L:501 (RKH ) has same name (H1_1) as a prior atom.\n",
      "WARNING mmpdb_write_ct: Atom 23 of residue L:501 (RKH ) has same name (H1_2) as a prior atom.\n",
      "WARNING mmpdb_write_ct: Atom 23 of residue L:501 (RK5 ) has same name (H1_1) as a prior atom.\n",
      "WARNING mmpdb_write_ct: Atom 24 of residue L:501 (RK5 ) has same name (H1_2) as a prior atom.\n",
      "WARNING mmpdb_write_ct: Atom 29 of residue L:402 (O3S ) has same name (H1_1) as a prior atom.\n",
      "WARNING mmpdb_write_ct: Atom 30 of residue L:402 (O3S ) has same name (H1_2) as a prior atom.\n"
     ]
    },
    {
     "name": "stdout",
     "output_type": "stream",
     "text": [
      "/home/pc/Documents/combind_fragment/combind_fragment/fragment_dataset/P29476/structures/ligands/4jsg_lig.mae\n"
     ]
    },
    {
     "ename": "KeyboardInterrupt",
     "evalue": "",
     "output_type": "error",
     "traceback": [
      "\u001b[0;31m---------------------------------------------------------------------------\u001b[0m",
      "\u001b[0;31mKeyboardInterrupt\u001b[0m                         Traceback (most recent call last)",
      "Cell \u001b[0;32mIn[11], line 18\u001b[0m\n\u001b[1;32m     16\u001b[0m ligand \u001b[38;5;241m=\u001b[39m \u001b[38;5;28mnext\u001b[39m(StructureReader(ligand_path))\n\u001b[1;32m     17\u001b[0m ligand\u001b[38;5;241m.\u001b[39mwrite(\u001b[38;5;124m\"\u001b[39m\u001b[38;5;124mtemp.pdb\u001b[39m\u001b[38;5;124m\"\u001b[39m)\n\u001b[0;32m---> 18\u001b[0m \u001b[38;5;28;01mtry\u001b[39;00m:\n\u001b[1;32m     19\u001b[0m     mol \u001b[38;5;241m=\u001b[39m Chem\u001b[38;5;241m.\u001b[39mMolFromPDBFile(\u001b[38;5;124m\"\u001b[39m\u001b[38;5;124mtemp.pdb\u001b[39m\u001b[38;5;124m\"\u001b[39m)\n\u001b[1;32m     20\u001b[0m     mol \u001b[38;5;241m=\u001b[39m Chem\u001b[38;5;241m.\u001b[39mRemoveAllHs(mol)  \u001b[38;5;66;03m# Remove hydrogens for cleaner SMILES\u001b[39;00m\n",
      "Cell \u001b[0;32mIn[11], line 18\u001b[0m\n\u001b[1;32m     16\u001b[0m ligand \u001b[38;5;241m=\u001b[39m \u001b[38;5;28mnext\u001b[39m(StructureReader(ligand_path))\n\u001b[1;32m     17\u001b[0m ligand\u001b[38;5;241m.\u001b[39mwrite(\u001b[38;5;124m\"\u001b[39m\u001b[38;5;124mtemp.pdb\u001b[39m\u001b[38;5;124m\"\u001b[39m)\n\u001b[0;32m---> 18\u001b[0m \u001b[38;5;28;01mtry\u001b[39;00m:\n\u001b[1;32m     19\u001b[0m     mol \u001b[38;5;241m=\u001b[39m Chem\u001b[38;5;241m.\u001b[39mMolFromPDBFile(\u001b[38;5;124m\"\u001b[39m\u001b[38;5;124mtemp.pdb\u001b[39m\u001b[38;5;124m\"\u001b[39m)\n\u001b[1;32m     20\u001b[0m     mol \u001b[38;5;241m=\u001b[39m Chem\u001b[38;5;241m.\u001b[39mRemoveAllHs(mol)  \u001b[38;5;66;03m# Remove hydrogens for cleaner SMILES\u001b[39;00m\n",
      "File \u001b[0;32m_pydevd_bundle\\\\pydevd_cython.pyx:1697\u001b[0m, in \u001b[0;36m_pydevd_bundle.pydevd_cython.SafeCallWrapper.__call__\u001b[0;34m()\u001b[0m\n",
      "File \u001b[0;32m_pydevd_bundle\\\\pydevd_cython.pyx:634\u001b[0m, in \u001b[0;36m_pydevd_bundle.pydevd_cython.PyDBFrame.trace_dispatch\u001b[0;34m()\u001b[0m\n",
      "File \u001b[0;32m_pydevd_bundle\\\\pydevd_cython.pyx:1368\u001b[0m, in \u001b[0;36m_pydevd_bundle.pydevd_cython.PyDBFrame.trace_dispatch\u001b[0;34m()\u001b[0m\n",
      "File \u001b[0;32m_pydevd_bundle\\\\pydevd_cython.pyx:1311\u001b[0m, in \u001b[0;36m_pydevd_bundle.pydevd_cython.PyDBFrame.trace_dispatch\u001b[0;34m()\u001b[0m\n",
      "File \u001b[0;32m_pydevd_bundle\\\\pydevd_cython.pyx:494\u001b[0m, in \u001b[0;36m_pydevd_bundle.pydevd_cython.PyDBFrame.do_wait_suspend\u001b[0;34m()\u001b[0m\n",
      "File \u001b[0;32m~/Documents/combind_fragment/schrodinger.ve/lib/python3.8/site-packages/debugpy/_vendored/pydevd/pydevd.py:2188\u001b[0m, in \u001b[0;36mPyDB.do_wait_suspend\u001b[0;34m(self, thread, frame, event, arg, exception_type)\u001b[0m\n\u001b[1;32m   2185\u001b[0m             from_this_thread\u001b[38;5;241m.\u001b[39mappend(frame_custom_thread_id)\n\u001b[1;32m   2187\u001b[0m     \u001b[38;5;28;01mwith\u001b[39;00m \u001b[38;5;28mself\u001b[39m\u001b[38;5;241m.\u001b[39m_threads_suspended_single_notification\u001b[38;5;241m.\u001b[39mnotify_thread_suspended(thread_id, thread, stop_reason):\n\u001b[0;32m-> 2188\u001b[0m         keep_suspended \u001b[38;5;241m=\u001b[39m \u001b[38;5;28;43mself\u001b[39;49m\u001b[38;5;241;43m.\u001b[39;49m\u001b[43m_do_wait_suspend\u001b[49m\u001b[43m(\u001b[49m\u001b[43mthread\u001b[49m\u001b[43m,\u001b[49m\u001b[43m \u001b[49m\u001b[43mframe\u001b[49m\u001b[43m,\u001b[49m\u001b[43m \u001b[49m\u001b[43mevent\u001b[49m\u001b[43m,\u001b[49m\u001b[43m \u001b[49m\u001b[43marg\u001b[49m\u001b[43m,\u001b[49m\u001b[43m \u001b[49m\u001b[43mtrace_suspend_type\u001b[49m\u001b[43m,\u001b[49m\u001b[43m \u001b[49m\u001b[43mfrom_this_thread\u001b[49m\u001b[43m,\u001b[49m\u001b[43m \u001b[49m\u001b[43mframes_tracker\u001b[49m\u001b[43m)\u001b[49m\n\u001b[1;32m   2190\u001b[0m frames_list \u001b[38;5;241m=\u001b[39m \u001b[38;5;28;01mNone\u001b[39;00m\n\u001b[1;32m   2192\u001b[0m \u001b[38;5;28;01mif\u001b[39;00m keep_suspended:\n\u001b[1;32m   2193\u001b[0m     \u001b[38;5;66;03m# This means that we should pause again after a set next statement.\u001b[39;00m\n",
      "File \u001b[0;32m~/Documents/combind_fragment/schrodinger.ve/lib/python3.8/site-packages/debugpy/_vendored/pydevd/pydevd.py:2257\u001b[0m, in \u001b[0;36mPyDB._do_wait_suspend\u001b[0;34m(self, thread, frame, event, arg, trace_suspend_type, from_this_thread, frames_tracker)\u001b[0m\n\u001b[1;32m   2254\u001b[0m                 queue\u001b[38;5;241m.\u001b[39mput(internal_cmd)\n\u001b[1;32m   2255\u001b[0m                 wait_timeout \u001b[38;5;241m=\u001b[39m TIMEOUT_FAST\n\u001b[0;32m-> 2257\u001b[0m         \u001b[43mnotify_event\u001b[49m\u001b[38;5;241;43m.\u001b[39;49m\u001b[43mwait\u001b[49m\u001b[43m(\u001b[49m\u001b[43mwait_timeout\u001b[49m\u001b[43m)\u001b[49m\n\u001b[1;32m   2258\u001b[0m         notify_event\u001b[38;5;241m.\u001b[39mclear()\n\u001b[1;32m   2260\u001b[0m \u001b[38;5;28;01mfinally\u001b[39;00m:\n",
      "File \u001b[0;32m/opt/schrodinger2024-1/internal/lib/python3.8/threading.py:558\u001b[0m, in \u001b[0;36mEvent.wait\u001b[0;34m(self, timeout)\u001b[0m\n\u001b[1;32m    556\u001b[0m signaled \u001b[38;5;241m=\u001b[39m \u001b[38;5;28mself\u001b[39m\u001b[38;5;241m.\u001b[39m_flag\n\u001b[1;32m    557\u001b[0m \u001b[38;5;28;01mif\u001b[39;00m \u001b[38;5;129;01mnot\u001b[39;00m signaled:\n\u001b[0;32m--> 558\u001b[0m     signaled \u001b[38;5;241m=\u001b[39m \u001b[38;5;28;43mself\u001b[39;49m\u001b[38;5;241;43m.\u001b[39;49m\u001b[43m_cond\u001b[49m\u001b[38;5;241;43m.\u001b[39;49m\u001b[43mwait\u001b[49m\u001b[43m(\u001b[49m\u001b[43mtimeout\u001b[49m\u001b[43m)\u001b[49m\n\u001b[1;32m    559\u001b[0m \u001b[38;5;28;01mreturn\u001b[39;00m signaled\n",
      "File \u001b[0;32m/opt/schrodinger2024-1/internal/lib/python3.8/threading.py:306\u001b[0m, in \u001b[0;36mCondition.wait\u001b[0;34m(self, timeout)\u001b[0m\n\u001b[1;32m    304\u001b[0m \u001b[38;5;28;01melse\u001b[39;00m:\n\u001b[1;32m    305\u001b[0m     \u001b[38;5;28;01mif\u001b[39;00m timeout \u001b[38;5;241m>\u001b[39m \u001b[38;5;241m0\u001b[39m:\n\u001b[0;32m--> 306\u001b[0m         gotit \u001b[38;5;241m=\u001b[39m \u001b[43mwaiter\u001b[49m\u001b[38;5;241;43m.\u001b[39;49m\u001b[43macquire\u001b[49m\u001b[43m(\u001b[49m\u001b[38;5;28;43;01mTrue\u001b[39;49;00m\u001b[43m,\u001b[49m\u001b[43m \u001b[49m\u001b[43mtimeout\u001b[49m\u001b[43m)\u001b[49m\n\u001b[1;32m    307\u001b[0m     \u001b[38;5;28;01melse\u001b[39;00m:\n\u001b[1;32m    308\u001b[0m         gotit \u001b[38;5;241m=\u001b[39m waiter\u001b[38;5;241m.\u001b[39macquire(\u001b[38;5;28;01mFalse\u001b[39;00m)\n",
      "\u001b[0;31mKeyboardInterrupt\u001b[0m: "
     ]
    }
   ],
   "source": [
    "for source_dir in source_dir_list:\n",
    "    #dest_dir = source_dir.replace(\"structures/ligands\", \"structures/ligands_redocking\")\n",
    "    \n",
    "    ligands_path = f\"{source_dir}/*\"\n",
    "    ligands_path = glob.glob(ligands_path)\n",
    "    \n",
    "    #extract the  * part from the source_dir\n",
    "    protein_name = source_dir.replace(f\"{dir_prefix}/{dataset_name}/\",\"\")\n",
    "    protein_name = protein_name.replace(\"/structures/ligands\",\"\")\n",
    "    dest_dir = f\"{dir_prefix}/{dataset_name}_redocking/{protein_name}\"\n",
    "\n",
    "    ligand_smiles = pd.DataFrame(columns=[\"ID\", \"SMILES\"])\n",
    "    for ligand_path in ligands_path:\n",
    "        if \"4jsg\" in ligand_path:\n",
    "            print(ligand_path)\n",
    "        ligand = next(StructureReader(ligand_path))\n",
    "        ligand.write(\"temp.pdb\")\n",
    "        try:\n",
    "            mol = Chem.MolFromPDBFile(\"temp.pdb\")\n",
    "            mol = Chem.RemoveAllHs(mol)  # Remove hydrogens for cleaner SMILES\n",
    "            AllChem.SanitizeMol(mol)     # Sanitize the molecule\n",
    "        except:\n",
    "            print(f\"Error: {ligand_path}\")\n",
    "            continue\n",
    "        # Convert to SMILES\n",
    "        smiles = Chem.MolToSmiles(mol)\n",
    "        #print(ligand_path.split(\"/\")[-1].replace(\".mae\",\"\"))\n",
    "        #print(flatten_smiles(smiles))\n",
    "        new_row = pd.DataFrame({\"ID\": [ligand_path.split(\"/\")[-1].replace(\".mae\",\"\")], \n",
    "                            \"SMILES\": [flatten_smiles(smiles)]})\n",
    "        ligand_smiles = pd.concat([ligand_smiles, new_row], ignore_index=True)\n",
    "\n",
    "    #ligand_smiles.to_csv(f\"{dest_dir}/ligand_resmiles.csv\", index=False)\n"
   ]
  }
 ],
 "metadata": {
  "kernelspec": {
   "display_name": "schrodinger.ve",
   "language": "python",
   "name": "python3"
  },
  "language_info": {
   "codemirror_mode": {
    "name": "ipython",
    "version": 3
   },
   "file_extension": ".py",
   "mimetype": "text/x-python",
   "name": "python",
   "nbconvert_exporter": "python",
   "pygments_lexer": "ipython3",
   "version": "3.8.10"
  }
 },
 "nbformat": 4,
 "nbformat_minor": 2
}
