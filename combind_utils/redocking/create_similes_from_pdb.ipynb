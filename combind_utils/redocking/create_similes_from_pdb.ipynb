{
 "cells": [
  {
   "cell_type": "code",
   "execution_count": null,
   "metadata": {},
   "outputs": [
    {
     "ename": "",
     "evalue": "",
     "output_type": "error",
     "traceback": [
      "\u001b[1;31mFailed to start the Kernel. \n",
      "\u001b[1;31mValueError: signal only works in main thread. \n",
      "\u001b[1;31mView Jupyter <a href='command:jupyter.viewOutput'>log</a> for further details."
     ]
    }
   ],
   "source": [
    "import glob\n",
    "dir_prefix = \"/scratch/groups/rondror/marvinli/combind_fragment\"#\"/home/pc/Documents/combind_fragment/combind_fragment\"\n",
    "dataset_name = \"fragment_fullBinders_dataset\"\n",
    "source_dir = f\"{dir_prefix}/{dataset_name}/*/structures/ligands\"\n",
    "#dest_dir = f\"{dir_prefix}/{dataset_name}_redocking\"\n",
    "\n",
    "source_dir_list = glob.glob(source_dir)\n",
    "#breakpoint()\n",
    "import numpy as np\n",
    "import schrodinger\n",
    "#try to read the mae file\n",
    "from schrodinger.structure import StructureReader\n",
    "from tqdm import tqdm\n",
    "from schrodinger.structutils import rmsd\n",
    "from rdkit import Chem\n",
    "from rdkit import Chem\n",
    "from rdkit.Chem import AllChem\n",
    "import pandas as pd"
   ]
  },
  {
   "cell_type": "code",
   "execution_count": 21,
   "metadata": {},
   "outputs": [],
   "source": [
    "import re\n",
    "\n",
    "def flatten_smiles(smiles_string):\n",
    "    \"\"\"\n",
    "    Flatten a SMILES expression by removing:\n",
    "    - Isotope specifications (numbers before atoms)\n",
    "    - Stereochemistry indicators (@, @@, /, \\)\n",
    "    - Atom charges (+, -)\n",
    "    - Atom classes (:[0-9]+)\n",
    "    - Explicit hydrogen counts ([nH], [CH3], etc.)\n",
    "    - Simplifying bracketed atoms to their basic form\n",
    "    \n",
    "    Args:\n",
    "        smiles_string (str): The SMILES string to flatten\n",
    "        \n",
    "    Returns:\n",
    "        str: The flattened SMILES string\n",
    "    \"\"\"\n",
    "    # Remove isotope specifications (numbers before atoms)\n",
    "    flattened = re.sub(r'(?<=\\[)[0-9]+', '', smiles_string)\n",
    "    \n",
    "    # Remove stereochemistry indicators\n",
    "    flattened = re.sub(r'@{1,2}', '', flattened)  # Remove @ and @@\n",
    "    flattened = re.sub(r'[/\\\\]', '', flattened)   # Remove / and \\\n",
    "    \n",
    "    # Remove atom charges and their associated numbers\n",
    "    flattened = re.sub(r'[-+][0-9]*', '', flattened)\n",
    "    \n",
    "    # Remove atom classes\n",
    "    flattened = re.sub(r':[0-9]+', '', flattened)\n",
    "    \n",
    "    # Handle explicit hydrogens in brackets\n",
    "    flattened = re.sub(r'\\[([A-Za-z])H[0-9]*\\]', r'\\1', flattened)\n",
    "    \n",
    "    # Handle bracketed atoms more generally\n",
    "    # Extract single atoms from brackets when they don't have special notations\n",
    "    pattern = r'\\[([A-Za-z])\\]'\n",
    "    while re.search(pattern, flattened):\n",
    "        flattened = re.sub(pattern, r'\\1', flattened)\n",
    "    \n",
    "    # Clean up the H notation in brackets when attached to other atoms\n",
    "    flattened = re.sub(r'([A-Za-z])\\[H\\]', r'\\1', flattened)\n",
    "    \n",
    "    # Clean up any empty brackets that might remain\n",
    "    flattened = re.sub(r'\\[\\]', '', flattened)\n",
    "    \n",
    "    return flattened"
   ]
  },
  {
   "cell_type": "code",
   "execution_count": 25,
   "metadata": {},
   "outputs": [
    {
     "name": "stderr",
     "output_type": "stream",
     "text": [
      "WARNING mmpdb_write_ct: Atom 34 of residue L:0 (Z79 ) has same name (H2_1) as a prior atom.\n",
      "WARNING mmpdb_write_ct: Atom 35 of residue L:0 (Z79 ) has same name (H2_2) as a prior atom.\n",
      "WARNING mmpdb_write_ct: Atom 17 of residue L:301 (N2Y ) has same name (H2_1) as a prior atom.\n",
      "WARNING mmpdb_write_ct: Atom 18 of residue L:301 (N2Y ) has same name (H2_2) as a prior atom.\n",
      "WARNING mmpdb_write_ct: Atom 19 of residue L:501 (RJ5 ) has same name (H1_1) as a prior atom.\n",
      "WARNING mmpdb_write_ct: Atom 20 of residue L:501 (RJ5 ) has same name (H1_2) as a prior atom.\n",
      "WARNING mmpdb_write_ct: Atom 20 of residue L:501 (RHZ ) has same name (H1_1) as a prior atom.\n",
      "WARNING mmpdb_write_ct: Atom 21 of residue L:501 (RHZ ) has same name (H1_2) as a prior atom.\n",
      "WARNING mmpdb_write_ct: Atom 26 of residue L:501 (RKW ) has same name (H1_1) as a prior atom.\n",
      "WARNING mmpdb_write_ct: Atom 27 of residue L:501 (RKW ) has same name (H1_2) as a prior atom.\n",
      "WARNING mmpdb_write_ct: Atom 22 of residue L:501 (RKH ) has same name (H1_1) as a prior atom.\n",
      "WARNING mmpdb_write_ct: Atom 23 of residue L:501 (RKH ) has same name (H1_2) as a prior atom.\n",
      "WARNING mmpdb_write_ct: Atom 23 of residue L:501 (RK5 ) has same name (H1_1) as a prior atom.\n",
      "WARNING mmpdb_write_ct: Atom 24 of residue L:501 (RK5 ) has same name (H1_2) as a prior atom.\n",
      "WARNING mmpdb_write_ct: Atom 29 of residue L:402 (O3S ) has same name (H1_1) as a prior atom.\n",
      "WARNING mmpdb_write_ct: Atom 30 of residue L:402 (O3S ) has same name (H1_2) as a prior atom.\n",
      "WARNING mmpdb_write_ct: Atom 22 of residue L:604 (HUP ) has same name (H2_1) as a prior atom.\n",
      "WARNING mmpdb_write_ct: Atom 23 of residue L:604 (HUP ) has same name (H2_2) as a prior atom.\n",
      "WARNING mmpdb_write_ct: Atom 30 of residue L:402 (FJR ) has same name (H021) as a prior atom.\n",
      "WARNING mmpdb_write_ct: Atom 31 of residue L:402 (FJR ) has same name (H022) as a prior atom.\n"
     ]
    }
   ],
   "source": [
    "for source_dir in source_dir_list:\n",
    "    #dest_dir = source_dir.replace(\"structures/ligands\", \"structures/ligands_redocking\")\n",
    "    \n",
    "    ligands_path = f\"{source_dir}/*\"\n",
    "    ligands_path = glob.glob(ligands_path)\n",
    "    \n",
    "    #extract the  * part from the source_dir\n",
    "    protein_name = source_dir.replace(f\"{dir_prefix}/{dataset_name}/\",\"\")\n",
    "    protein_name = protein_name.replace(\"/structures/ligands\",\"\")\n",
    "    dest_dir = f\"{dir_prefix}/{dataset_name}_redocking/{protein_name}\"\n",
    "\n",
    "    ligand_smiles = pd.DataFrame(columns=[\"ID\", \"SMILES\"])\n",
    "    for ligand_path in ligands_path:\n",
    "        ligand = next(StructureReader(ligand_path))\n",
    "        ligand.write(\"temp.pdb\")\n",
    "        try:\n",
    "            mol = Chem.MolFromPDBFile(\"temp.pdb\")\n",
    "            mol = Chem.RemoveAllHs(mol)  # Remove hydrogens for cleaner SMILES\n",
    "            AllChem.SanitizeMol(mol)     # Sanitize the molecule\n",
    "        except:\n",
    "            print(f\"Error: {ligand_path}\")\n",
    "            continue\n",
    "        # Convert to SMILES\n",
    "        smiles = Chem.MolToSmiles(mol)\n",
    "        #print(ligand_path.split(\"/\")[-1].replace(\".mae\",\"\"))\n",
    "        #print(flatten_smiles(smiles))\n",
    "        new_row = pd.DataFrame({\"ID\": [ligand_path.split(\"/\")[-1].replace(\".mae\",\"\")], \n",
    "                            \"SMILES\": [flatten_smiles(smiles)]})\n",
    "        ligand_smiles = pd.concat([ligand_smiles, new_row], ignore_index=True)\n",
    "\n",
    "    ligand_smiles.to_csv(f\"{dest_dir}/ligand_resmiles.csv\", index=False)\n"
   ]
  }
 ],
 "metadata": {
  "kernelspec": {
   "display_name": "schrodinger.ve",
   "language": "python",
   "name": "python3"
  },
  "language_info": {
   "codemirror_mode": {
    "name": "ipython",
    "version": 3
   },
   "file_extension": ".py",
   "mimetype": "text/x-python",
   "name": "python",
   "nbconvert_exporter": "python",
   "pygments_lexer": "ipython3",
   "version": "3.8.3"
  }
 },
 "nbformat": 4,
 "nbformat_minor": 2
}
