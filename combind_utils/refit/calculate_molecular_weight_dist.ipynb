{
 "cells": [
  {
   "cell_type": "code",
   "execution_count": 4,
   "metadata": {},
   "outputs": [],
   "source": [
    "from rdkit import Chem\n",
    "from rdkit.Chem import Descriptors\n",
    "import glob\n",
    "import pandas as pd\n",
    "smiles_path = \"/home/pc/Documents/combind_fragment/combind_fragment/*_dataset_add_bond_orders/*/library.csv\" \n",
    "smiles_files = glob.glob(smiles_path)\n",
    "molecular_weight_list = []\n",
    "for smiles_file in smiles_files:\n",
    "    smiles_pd = pd.read_csv(smiles_file)\n",
    "    smiles_list = smiles_pd['SMILES'].tolist()\n",
    "    for smiles in smiles_list:\n",
    "        mol = Chem.MolFromSmiles(smiles)\n",
    "        mol_weight = Descriptors.MolWt(mol)\n",
    "        molecular_weight_list.append(mol_weight)"
   ]
  },
  {
   "cell_type": "code",
   "execution_count": 7,
   "metadata": {},
   "outputs": [],
   "source": [
    "#plot the molecular weight distribution\n",
    "import matplotlib.pyplot as plt\n",
    "plt.hist(molecular_weight_list, bins=100)\n",
    "plt.show()"
   ]
  },
  {
   "cell_type": "code",
   "execution_count": 9,
   "metadata": {},
   "outputs": [],
   "source": [
    "#if you find all permutations of the molecular weight distribution by summing up any two values, how many unique values are there?\n",
    "from itertools import combinations\n",
    "permutations = list(combinations(molecular_weight_list, 2))\n",
    "unique_values = set(sum(p) for p in permutations)\n",
    "#plot distribution of unique values\n",
    "plt.hist(list(unique_values), bins=100)\n",
    "plt.show()"
   ]
  }
 ],
 "metadata": {
  "kernelspec": {
   "display_name": "schrodinger.ve",
   "language": "python",
   "name": "python3"
  },
  "language_info": {
   "codemirror_mode": {
    "name": "ipython",
    "version": 3
   },
   "file_extension": ".py",
   "mimetype": "text/x-python",
   "name": "python",
   "nbconvert_exporter": "python",
   "pygments_lexer": "ipython3",
   "version": "3.8.10"
  }
 },
 "nbformat": 4,
 "nbformat_minor": 2
}
