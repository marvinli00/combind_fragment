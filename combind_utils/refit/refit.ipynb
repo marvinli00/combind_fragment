{
 "cells": [
  {
   "cell_type": "code",
   "execution_count": 5,
   "metadata": {},
   "outputs": [],
   "source": [
    "import glob\n",
    "import os\n",
    "import sys\n",
    "ligands = \"/home/pc/Documents/combind_fragment/combind_fragment/fragment_dataset_add_bond_orders/A5H660/docking/*\"\n",
    "ligands = glob.glob(ligands)\n",
    "#sort by alphabetical order\n",
    "ligands.sort()\n",
    "\n",
    "\n",
    "sys.path.append('/home/pc/Documents/combind_fragment/combind_fragment')\n",
    "\n",
    "\n",
    "\n",
    "\n",
    "\n",
    "\n",
    "\n",
    "\n"
   ]
  },
  {
   "cell_type": "code",
   "execution_count": null,
   "metadata": {},
   "outputs": [],
   "source": [
    "import pandas as pd\n",
    "#base path\n",
    "def get_feature_name(base_path):\n",
    "    feature_name = os.path.join(base_path,\"name1.npy\")\n",
    "    #base path remove /features\n",
    "    base_path = base_path.replace(\"/features\",\"\")\n",
    "    ligand_library = os.path.join(base_path,\"ligand_resmiles.csv\")\n",
    "    #no index column\n",
    "    ligand_library = pd.read_csv(ligand_library, index_col=False)\n",
    "    #get the first column\n",
    "    feature_name = ligand_library.iloc[:, 0].values\n",
    "    return feature_name\n",
    "\n",
    "\n"
   ]
  },
  {
   "cell_type": "code",
   "execution_count": 7,
   "metadata": {},
   "outputs": [
    {
     "data": {
      "text/plain": [
       "['/home/pc/Documents/combind_fragment/combind_fragment/fragment_dataset_add_bond_orders/A5H660/docking/4bz6_lig-to-4bz6',\n",
       " '/home/pc/Documents/combind_fragment/combind_fragment/fragment_dataset_add_bond_orders/A5H660/docking/6hsf_lig-to-4bz6',\n",
       " '/home/pc/Documents/combind_fragment/combind_fragment/fragment_dataset_add_bond_orders/A5H660/docking/6hsz_lig-to-4bz6',\n",
       " '/home/pc/Documents/combind_fragment/combind_fragment/fragment_dataset_add_bond_orders/A5H660/docking/6ht8_lig-to-4bz6',\n",
       " '/home/pc/Documents/combind_fragment/combind_fragment/fragment_dataset_add_bond_orders/A5H660/docking/6htg_lig-to-4bz6']"
      ]
     },
     "execution_count": 7,
     "metadata": {},
     "output_type": "execute_result"
    }
   ],
   "source": [
    "ligands"
   ]
  }
 ],
 "metadata": {
  "kernelspec": {
   "display_name": "schrodinger.ve",
   "language": "python",
   "name": "python3"
  },
  "language_info": {
   "codemirror_mode": {
    "name": "ipython",
    "version": 3
   },
   "file_extension": ".py",
   "mimetype": "text/x-python",
   "name": "python",
   "nbconvert_exporter": "python",
   "pygments_lexer": "ipython3",
   "version": "3.8.10"
  }
 },
 "nbformat": 4,
 "nbformat_minor": 2
}
