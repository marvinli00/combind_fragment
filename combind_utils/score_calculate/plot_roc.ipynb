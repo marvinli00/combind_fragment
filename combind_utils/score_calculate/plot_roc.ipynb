{
 "cells": [
  {
   "cell_type": "code",
   "execution_count": 7,
   "metadata": {},
   "outputs": [],
   "source": [
    "import glob\n",
    "import os\n",
    "import pandas as pd\n",
    "import numpy as np\n",
    "import matplotlib.pyplot as plt\n",
    "import seaborn as sns\n",
    "from log_roc import calculate_roc_from_energies\n",
    "from sklearn.metrics import auc\n",
    "\n",
    "def log_auc(x, y):\n",
    "    \"\"\"Calculate AUC with log-transformed x-axis\"\"\"\n",
    "    log_x = np.log(x)\n",
    "    return auc(log_x, y)\n",
    "\n",
    "\n",
    "protein_path_list = \"rank_csv/*_combind_*.csv\"\n",
    "protein_path_list = glob.glob(protein_path_list)\n",
    "\n",
    "def calculate_auc(merged_scores):\n",
    "    #remove any rows with na\n",
    "    merged_scores = merged_scores.dropna()\n",
    "    #sort by score\n",
    "    merged_scores = merged_scores.sort_values(by=\"score\", ascending=False)\n",
    "    y_true = merged_scores[\"standard_value\"] > 0\n",
    "    #to label\n",
    "    y_true = y_true.astype(int).to_numpy()\n",
    "    y_pred = merged_scores[\"score\"].to_numpy()\n",
    "    #calculate the auc\n",
    "    auc = calculate_roc_from_energies(y_true, y_pred, lower_is_better=False)\n",
    "    return auc\n",
    "protein_log_auc = {}\n",
    "for protein_path in protein_path_list:\n",
    "    combind_scores = pd.read_csv(protein_path)\n",
    "    glide_scores = pd.read_csv(protein_path.replace(\"_combind_\", \"_glide_\"))\n",
    "    #set column 0 name as ID and column 1 name as score\n",
    "    combind_scores.columns = [\"ID\", \"score\"]\n",
    "    glide_scores.columns = [\"ID\", \"score\"]\n",
    "    #energy terms is negative, so we need to make it positive\n",
    "    glide_scores[\"score\"] = -glide_scores[\"score\"]\n",
    "    protein_name = protein_path.split(\"/\")[-1].split(\"_\")[0]\n",
    "    \n",
    "    #real score is in ../benchmark_set_split/{protein_name}/library.csv\n",
    "    library_path = f\"../../benchmark_set_split/{protein_name}/library.csv\"\n",
    "    library_df = pd.read_csv(library_path)\n",
    "    #set standard_value column NaN as -1\n",
    "    library_df[\"standard_value\"] = library_df[\"standard_value\"].fillna(-1)\n",
    "    \n",
    "    #merge the combind_scores and glide_scores with the library_df\n",
    "    combind_scores = pd.merge(combind_scores, library_df, on=\"ID\", how=\"left\")\n",
    "    glide_scores = pd.merge(glide_scores, library_df, on=\"ID\", how=\"left\")\n",
    "    \n",
    "    combind_log_auc = calculate_auc(combind_scores)\n",
    "    combind_log_auc = combind_log_auc[\"log_auc\"]\n",
    "    glide_log_auc = calculate_auc(glide_scores)\n",
    "    glide_log_auc = glide_log_auc[\"log_auc\"]\n",
    "    \n",
    "    protein_log_auc[protein_name] = {\"combind_log_auc\":combind_log_auc, \"glide_log_auc\":glide_log_auc}\n",
    "    \n"
   ]
  },
  {
   "cell_type": "code",
   "execution_count": 8,
   "metadata": {},
   "outputs": [],
   "source": [
    "import pandas as pd\n",
    "protein_log_auc = pd.DataFrame(protein_log_auc)\n",
    "protein_log_auc.to_csv(\"protein_log_auc_fragment_stats_prev.csv\")\n"
   ]
  }
 ],
 "metadata": {
  "kernelspec": {
   "display_name": "schrodinger.ve",
   "language": "python",
   "name": "python3"
  },
  "language_info": {
   "codemirror_mode": {
    "name": "ipython",
    "version": 3
   },
   "file_extension": ".py",
   "mimetype": "text/x-python",
   "name": "python",
   "nbconvert_exporter": "python",
   "pygments_lexer": "ipython3",
   "version": "3.8.10"
  }
 },
 "nbformat": 4,
 "nbformat_minor": 2
}
